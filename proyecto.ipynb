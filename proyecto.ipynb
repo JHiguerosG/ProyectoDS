{
 "cells": [
  {
   "cell_type": "markdown",
   "id": "2cc768ed-51e9-4062-8830-a1314efbdbab",
   "metadata": {},
   "source": [
    "<p style=\"text-align:center; font-size: 26px;\">\n",
    "  <strong>DETECCIÓN DE FRAUDE CON TARJETAS DE CRÉDITO</strong><br>\n",
    "  Bootcamp de Ciencia de Datos - Proyecto final<br>\n",
    "  <em>Jonathan Higueros Garrido</em><br>\n",
    "  <small>Guatemala, 10 de enero de 2025</small>\n",
    "</p>"
   ]
  },
  {
   "cell_type": "markdown",
   "id": "eb65b2f8-ec04-4306-8773-7896edf4a1f5",
   "metadata": {},
   "source": [
    "Para este proyecto se utilizó un dataset de Transacciones de tarjetas de crédito anonimizadas y etiquetadas como fraudulentas o legítimas. El conjunto de datos contiene 284,807 transacciones realizadas con tarjetas de crédito en septiembre de 2013 por titulares de tarjetas de crédito europeos.\n",
    "\n",
    "La fuente de los datos es: https://www.kaggle.com/datasets/mlg-ulb/creditcardfraud/data"
   ]
  },
  {
   "cell_type": "markdown",
   "id": "66316523-83dd-4465-93d7-7ac67321bd64",
   "metadata": {},
   "source": [
    "# Objetivos\n",
    "\n",
    "**1 Detección Temprana de Transacciones Fraudulentas**\n",
    "Identificar transacciones fraudulentas lo antes posible para mitigar pérdidas económicas tanto para las instituciones financieras como para los clientes. Una detección temprana permite bloquear transacciones antes de que se consumen y proteger los fondos de los usuarios.\n",
    "\n",
    "**2 Analizar Patrones de Fraude**\n",
    "Comprender los patrones comunes en las transacciones fraudulentas, como montos inusuales o tiempos de transacción atípicos. Este análisis puede ser útil para desarrollar reglas adicionales y mejorar los sistemas de prevención en el futuro.\n",
    "\n",
    "**3 Optimizar los Costos Operativos**\n",
    "Reducir el impacto económico del fraude mediante la detección eficiente de transacciones sospechosas. Minimizar el costo asociado al análisis manual de transacciones sospechosas al automatizar el proceso.\n",
    "\n",
    "**4 Garantizar la Privacidad y Seguridad de los Datos**\n",
    "Cumplir con normativas de protección de datos, asegurando que el análisis y almacenamiento de datos sensibles sea seguro. Los datos de las transacciones suelen contener información confidencial, y su manejo inadecuado podría generar riesgos legales y reputacionales.\n"
   ]
  },
  {
   "cell_type": "markdown",
   "id": "eb056334-fd89-4ff1-bcdd-1ebb1247acbf",
   "metadata": {},
   "source": [
    "# Preguntas planteadas durante el desarrollo del proyecto\n",
    "\n",
    "Las preguntas clave en la elaboración del proyecto de Detección de Fraude con Tarjetas de Crédito fueron:\n",
    "\n",
    "**1 ¿Qué características en el dataset están más asociadas al fraude?**\n",
    "- Identificar las variables que son indicadores más fuertes de transacciones fraudulentas.\n",
    "\n",
    "**2 ¿Cómo se puede manejar el desbalance de datos entre transacciones legítimas y fraudulentas?**\n",
    "- Las transacciones fraudulentas representan una pequeña proporción, lo que puede afectar el entrenamiento del modelo.\n",
    "\n",
    "**3 ¿Qué técnicas y algoritmos son más adecuados para detectar fraudes?**\n",
    "- Determinar qué métodos ofrecen el mejor equilibrio entre precisión y rendimiento.\n",
    "\n",
    "**4 ¿Cuáles son los patrones más comunes en las transacciones fraudulentas?**\n",
    "- Evaluar si existen montos u horarios recurrentes en las transacciones fraudulentas.\n",
    "\n",
    "**5 ¿Cómo podemos minimizar los falsos positivos y falsos negativos?**\n",
    "- Diseñar un modelo que identifique fraudes sin clasificar erróneamente las transacciones legítimas."
   ]
  },
  {
   "cell_type": "markdown",
   "id": "586055fa-8de3-4ed5-a383-903b8aeceee0",
   "metadata": {},
   "source": [
    "# Preparación del entorno de trabajo"
   ]
  },
  {
   "cell_type": "code",
   "execution_count": 5,
   "id": "c30f5b95-7cb0-46f9-aa18-0a8b9ba0e2d5",
   "metadata": {},
   "outputs": [],
   "source": [
    "import pandas as pd                      # Para manipulación de datos.\n",
    "import numpy as np                       # Para operaciones numéricas.\n",
    "import matplotlib.pyplot as plt          # Para visualización.\n",
    "import seaborn as sns                    # Para visualización."
   ]
  },
  {
   "cell_type": "markdown",
   "id": "bf2a64a9-f5f5-4b6f-a20f-369e0ea3423c",
   "metadata": {},
   "source": [
    "# Cargar los datos en un dataframe de pandas"
   ]
  },
  {
   "cell_type": "code",
   "execution_count": 7,
   "id": "2cec75ac-6941-43b3-bd7a-c40287ec778d",
   "metadata": {},
   "outputs": [
    {
     "data": {
      "text/html": [
       "<div>\n",
       "<style scoped>\n",
       "    .dataframe tbody tr th:only-of-type {\n",
       "        vertical-align: middle;\n",
       "    }\n",
       "\n",
       "    .dataframe tbody tr th {\n",
       "        vertical-align: top;\n",
       "    }\n",
       "\n",
       "    .dataframe thead th {\n",
       "        text-align: right;\n",
       "    }\n",
       "</style>\n",
       "<table border=\"1\" class=\"dataframe\">\n",
       "  <thead>\n",
       "    <tr style=\"text-align: right;\">\n",
       "      <th></th>\n",
       "      <th>Time</th>\n",
       "      <th>V1</th>\n",
       "      <th>V2</th>\n",
       "      <th>V3</th>\n",
       "      <th>V4</th>\n",
       "      <th>V5</th>\n",
       "      <th>V6</th>\n",
       "      <th>V7</th>\n",
       "      <th>V8</th>\n",
       "      <th>V9</th>\n",
       "      <th>...</th>\n",
       "      <th>V21</th>\n",
       "      <th>V22</th>\n",
       "      <th>V23</th>\n",
       "      <th>V24</th>\n",
       "      <th>V25</th>\n",
       "      <th>V26</th>\n",
       "      <th>V27</th>\n",
       "      <th>V28</th>\n",
       "      <th>Amount</th>\n",
       "      <th>Class</th>\n",
       "    </tr>\n",
       "  </thead>\n",
       "  <tbody>\n",
       "    <tr>\n",
       "      <th>0</th>\n",
       "      <td>0.0</td>\n",
       "      <td>-1.359807</td>\n",
       "      <td>-0.072781</td>\n",
       "      <td>2.536347</td>\n",
       "      <td>1.378155</td>\n",
       "      <td>-0.338321</td>\n",
       "      <td>0.462388</td>\n",
       "      <td>0.239599</td>\n",
       "      <td>0.098698</td>\n",
       "      <td>0.363787</td>\n",
       "      <td>...</td>\n",
       "      <td>-0.018307</td>\n",
       "      <td>0.277838</td>\n",
       "      <td>-0.110474</td>\n",
       "      <td>0.066928</td>\n",
       "      <td>0.128539</td>\n",
       "      <td>-0.189115</td>\n",
       "      <td>0.133558</td>\n",
       "      <td>-0.021053</td>\n",
       "      <td>149.62</td>\n",
       "      <td>0</td>\n",
       "    </tr>\n",
       "    <tr>\n",
       "      <th>1</th>\n",
       "      <td>0.0</td>\n",
       "      <td>1.191857</td>\n",
       "      <td>0.266151</td>\n",
       "      <td>0.166480</td>\n",
       "      <td>0.448154</td>\n",
       "      <td>0.060018</td>\n",
       "      <td>-0.082361</td>\n",
       "      <td>-0.078803</td>\n",
       "      <td>0.085102</td>\n",
       "      <td>-0.255425</td>\n",
       "      <td>...</td>\n",
       "      <td>-0.225775</td>\n",
       "      <td>-0.638672</td>\n",
       "      <td>0.101288</td>\n",
       "      <td>-0.339846</td>\n",
       "      <td>0.167170</td>\n",
       "      <td>0.125895</td>\n",
       "      <td>-0.008983</td>\n",
       "      <td>0.014724</td>\n",
       "      <td>2.69</td>\n",
       "      <td>0</td>\n",
       "    </tr>\n",
       "    <tr>\n",
       "      <th>2</th>\n",
       "      <td>1.0</td>\n",
       "      <td>-1.358354</td>\n",
       "      <td>-1.340163</td>\n",
       "      <td>1.773209</td>\n",
       "      <td>0.379780</td>\n",
       "      <td>-0.503198</td>\n",
       "      <td>1.800499</td>\n",
       "      <td>0.791461</td>\n",
       "      <td>0.247676</td>\n",
       "      <td>-1.514654</td>\n",
       "      <td>...</td>\n",
       "      <td>0.247998</td>\n",
       "      <td>0.771679</td>\n",
       "      <td>0.909412</td>\n",
       "      <td>-0.689281</td>\n",
       "      <td>-0.327642</td>\n",
       "      <td>-0.139097</td>\n",
       "      <td>-0.055353</td>\n",
       "      <td>-0.059752</td>\n",
       "      <td>378.66</td>\n",
       "      <td>0</td>\n",
       "    </tr>\n",
       "    <tr>\n",
       "      <th>3</th>\n",
       "      <td>1.0</td>\n",
       "      <td>-0.966272</td>\n",
       "      <td>-0.185226</td>\n",
       "      <td>1.792993</td>\n",
       "      <td>-0.863291</td>\n",
       "      <td>-0.010309</td>\n",
       "      <td>1.247203</td>\n",
       "      <td>0.237609</td>\n",
       "      <td>0.377436</td>\n",
       "      <td>-1.387024</td>\n",
       "      <td>...</td>\n",
       "      <td>-0.108300</td>\n",
       "      <td>0.005274</td>\n",
       "      <td>-0.190321</td>\n",
       "      <td>-1.175575</td>\n",
       "      <td>0.647376</td>\n",
       "      <td>-0.221929</td>\n",
       "      <td>0.062723</td>\n",
       "      <td>0.061458</td>\n",
       "      <td>123.50</td>\n",
       "      <td>0</td>\n",
       "    </tr>\n",
       "    <tr>\n",
       "      <th>4</th>\n",
       "      <td>2.0</td>\n",
       "      <td>-1.158233</td>\n",
       "      <td>0.877737</td>\n",
       "      <td>1.548718</td>\n",
       "      <td>0.403034</td>\n",
       "      <td>-0.407193</td>\n",
       "      <td>0.095921</td>\n",
       "      <td>0.592941</td>\n",
       "      <td>-0.270533</td>\n",
       "      <td>0.817739</td>\n",
       "      <td>...</td>\n",
       "      <td>-0.009431</td>\n",
       "      <td>0.798278</td>\n",
       "      <td>-0.137458</td>\n",
       "      <td>0.141267</td>\n",
       "      <td>-0.206010</td>\n",
       "      <td>0.502292</td>\n",
       "      <td>0.219422</td>\n",
       "      <td>0.215153</td>\n",
       "      <td>69.99</td>\n",
       "      <td>0</td>\n",
       "    </tr>\n",
       "    <tr>\n",
       "      <th>...</th>\n",
       "      <td>...</td>\n",
       "      <td>...</td>\n",
       "      <td>...</td>\n",
       "      <td>...</td>\n",
       "      <td>...</td>\n",
       "      <td>...</td>\n",
       "      <td>...</td>\n",
       "      <td>...</td>\n",
       "      <td>...</td>\n",
       "      <td>...</td>\n",
       "      <td>...</td>\n",
       "      <td>...</td>\n",
       "      <td>...</td>\n",
       "      <td>...</td>\n",
       "      <td>...</td>\n",
       "      <td>...</td>\n",
       "      <td>...</td>\n",
       "      <td>...</td>\n",
       "      <td>...</td>\n",
       "      <td>...</td>\n",
       "      <td>...</td>\n",
       "    </tr>\n",
       "    <tr>\n",
       "      <th>284802</th>\n",
       "      <td>172786.0</td>\n",
       "      <td>-11.881118</td>\n",
       "      <td>10.071785</td>\n",
       "      <td>-9.834783</td>\n",
       "      <td>-2.066656</td>\n",
       "      <td>-5.364473</td>\n",
       "      <td>-2.606837</td>\n",
       "      <td>-4.918215</td>\n",
       "      <td>7.305334</td>\n",
       "      <td>1.914428</td>\n",
       "      <td>...</td>\n",
       "      <td>0.213454</td>\n",
       "      <td>0.111864</td>\n",
       "      <td>1.014480</td>\n",
       "      <td>-0.509348</td>\n",
       "      <td>1.436807</td>\n",
       "      <td>0.250034</td>\n",
       "      <td>0.943651</td>\n",
       "      <td>0.823731</td>\n",
       "      <td>0.77</td>\n",
       "      <td>0</td>\n",
       "    </tr>\n",
       "    <tr>\n",
       "      <th>284803</th>\n",
       "      <td>172787.0</td>\n",
       "      <td>-0.732789</td>\n",
       "      <td>-0.055080</td>\n",
       "      <td>2.035030</td>\n",
       "      <td>-0.738589</td>\n",
       "      <td>0.868229</td>\n",
       "      <td>1.058415</td>\n",
       "      <td>0.024330</td>\n",
       "      <td>0.294869</td>\n",
       "      <td>0.584800</td>\n",
       "      <td>...</td>\n",
       "      <td>0.214205</td>\n",
       "      <td>0.924384</td>\n",
       "      <td>0.012463</td>\n",
       "      <td>-1.016226</td>\n",
       "      <td>-0.606624</td>\n",
       "      <td>-0.395255</td>\n",
       "      <td>0.068472</td>\n",
       "      <td>-0.053527</td>\n",
       "      <td>24.79</td>\n",
       "      <td>0</td>\n",
       "    </tr>\n",
       "    <tr>\n",
       "      <th>284804</th>\n",
       "      <td>172788.0</td>\n",
       "      <td>1.919565</td>\n",
       "      <td>-0.301254</td>\n",
       "      <td>-3.249640</td>\n",
       "      <td>-0.557828</td>\n",
       "      <td>2.630515</td>\n",
       "      <td>3.031260</td>\n",
       "      <td>-0.296827</td>\n",
       "      <td>0.708417</td>\n",
       "      <td>0.432454</td>\n",
       "      <td>...</td>\n",
       "      <td>0.232045</td>\n",
       "      <td>0.578229</td>\n",
       "      <td>-0.037501</td>\n",
       "      <td>0.640134</td>\n",
       "      <td>0.265745</td>\n",
       "      <td>-0.087371</td>\n",
       "      <td>0.004455</td>\n",
       "      <td>-0.026561</td>\n",
       "      <td>67.88</td>\n",
       "      <td>0</td>\n",
       "    </tr>\n",
       "    <tr>\n",
       "      <th>284805</th>\n",
       "      <td>172788.0</td>\n",
       "      <td>-0.240440</td>\n",
       "      <td>0.530483</td>\n",
       "      <td>0.702510</td>\n",
       "      <td>0.689799</td>\n",
       "      <td>-0.377961</td>\n",
       "      <td>0.623708</td>\n",
       "      <td>-0.686180</td>\n",
       "      <td>0.679145</td>\n",
       "      <td>0.392087</td>\n",
       "      <td>...</td>\n",
       "      <td>0.265245</td>\n",
       "      <td>0.800049</td>\n",
       "      <td>-0.163298</td>\n",
       "      <td>0.123205</td>\n",
       "      <td>-0.569159</td>\n",
       "      <td>0.546668</td>\n",
       "      <td>0.108821</td>\n",
       "      <td>0.104533</td>\n",
       "      <td>10.00</td>\n",
       "      <td>0</td>\n",
       "    </tr>\n",
       "    <tr>\n",
       "      <th>284806</th>\n",
       "      <td>172792.0</td>\n",
       "      <td>-0.533413</td>\n",
       "      <td>-0.189733</td>\n",
       "      <td>0.703337</td>\n",
       "      <td>-0.506271</td>\n",
       "      <td>-0.012546</td>\n",
       "      <td>-0.649617</td>\n",
       "      <td>1.577006</td>\n",
       "      <td>-0.414650</td>\n",
       "      <td>0.486180</td>\n",
       "      <td>...</td>\n",
       "      <td>0.261057</td>\n",
       "      <td>0.643078</td>\n",
       "      <td>0.376777</td>\n",
       "      <td>0.008797</td>\n",
       "      <td>-0.473649</td>\n",
       "      <td>-0.818267</td>\n",
       "      <td>-0.002415</td>\n",
       "      <td>0.013649</td>\n",
       "      <td>217.00</td>\n",
       "      <td>0</td>\n",
       "    </tr>\n",
       "  </tbody>\n",
       "</table>\n",
       "<p>284807 rows × 31 columns</p>\n",
       "</div>"
      ],
      "text/plain": [
       "            Time         V1         V2        V3        V4        V5  \\\n",
       "0            0.0  -1.359807  -0.072781  2.536347  1.378155 -0.338321   \n",
       "1            0.0   1.191857   0.266151  0.166480  0.448154  0.060018   \n",
       "2            1.0  -1.358354  -1.340163  1.773209  0.379780 -0.503198   \n",
       "3            1.0  -0.966272  -0.185226  1.792993 -0.863291 -0.010309   \n",
       "4            2.0  -1.158233   0.877737  1.548718  0.403034 -0.407193   \n",
       "...          ...        ...        ...       ...       ...       ...   \n",
       "284802  172786.0 -11.881118  10.071785 -9.834783 -2.066656 -5.364473   \n",
       "284803  172787.0  -0.732789  -0.055080  2.035030 -0.738589  0.868229   \n",
       "284804  172788.0   1.919565  -0.301254 -3.249640 -0.557828  2.630515   \n",
       "284805  172788.0  -0.240440   0.530483  0.702510  0.689799 -0.377961   \n",
       "284806  172792.0  -0.533413  -0.189733  0.703337 -0.506271 -0.012546   \n",
       "\n",
       "              V6        V7        V8        V9  ...       V21       V22  \\\n",
       "0       0.462388  0.239599  0.098698  0.363787  ... -0.018307  0.277838   \n",
       "1      -0.082361 -0.078803  0.085102 -0.255425  ... -0.225775 -0.638672   \n",
       "2       1.800499  0.791461  0.247676 -1.514654  ...  0.247998  0.771679   \n",
       "3       1.247203  0.237609  0.377436 -1.387024  ... -0.108300  0.005274   \n",
       "4       0.095921  0.592941 -0.270533  0.817739  ... -0.009431  0.798278   \n",
       "...          ...       ...       ...       ...  ...       ...       ...   \n",
       "284802 -2.606837 -4.918215  7.305334  1.914428  ...  0.213454  0.111864   \n",
       "284803  1.058415  0.024330  0.294869  0.584800  ...  0.214205  0.924384   \n",
       "284804  3.031260 -0.296827  0.708417  0.432454  ...  0.232045  0.578229   \n",
       "284805  0.623708 -0.686180  0.679145  0.392087  ...  0.265245  0.800049   \n",
       "284806 -0.649617  1.577006 -0.414650  0.486180  ...  0.261057  0.643078   \n",
       "\n",
       "             V23       V24       V25       V26       V27       V28  Amount  \\\n",
       "0      -0.110474  0.066928  0.128539 -0.189115  0.133558 -0.021053  149.62   \n",
       "1       0.101288 -0.339846  0.167170  0.125895 -0.008983  0.014724    2.69   \n",
       "2       0.909412 -0.689281 -0.327642 -0.139097 -0.055353 -0.059752  378.66   \n",
       "3      -0.190321 -1.175575  0.647376 -0.221929  0.062723  0.061458  123.50   \n",
       "4      -0.137458  0.141267 -0.206010  0.502292  0.219422  0.215153   69.99   \n",
       "...          ...       ...       ...       ...       ...       ...     ...   \n",
       "284802  1.014480 -0.509348  1.436807  0.250034  0.943651  0.823731    0.77   \n",
       "284803  0.012463 -1.016226 -0.606624 -0.395255  0.068472 -0.053527   24.79   \n",
       "284804 -0.037501  0.640134  0.265745 -0.087371  0.004455 -0.026561   67.88   \n",
       "284805 -0.163298  0.123205 -0.569159  0.546668  0.108821  0.104533   10.00   \n",
       "284806  0.376777  0.008797 -0.473649 -0.818267 -0.002415  0.013649  217.00   \n",
       "\n",
       "        Class  \n",
       "0           0  \n",
       "1           0  \n",
       "2           0  \n",
       "3           0  \n",
       "4           0  \n",
       "...       ...  \n",
       "284802      0  \n",
       "284803      0  \n",
       "284804      0  \n",
       "284805      0  \n",
       "284806      0  \n",
       "\n",
       "[284807 rows x 31 columns]"
      ]
     },
     "execution_count": 7,
     "metadata": {},
     "output_type": "execute_result"
    }
   ],
   "source": [
    "# Cargar el conjunto de datos\n",
    "datos = pd.read_csv('G:\\Escritorio\\Proyecto\\creditcard.csv')\n",
    "\n",
    "# Mostrar para entender la estructura\n",
    "datos"
   ]
  },
  {
   "cell_type": "markdown",
   "id": "a97e6cd0-e8d5-46aa-a050-e3053bbdbe9e",
   "metadata": {},
   "source": [
    "# Características del dataset:\n",
    "\n",
    "- **Variables transformadas (V1...V28):** Las características han sido transformadas utilizando Análisis de Componentes Principales (PCA) para mantener la confidencialidad de la información. Las columnas se denominan V1, V2, hasta V28.\n",
    "\n",
    "- **Tiempo (Time):** La columna Time contiene los segundos transcurridos entre cada transacción y la primera transacción en el conjunto de datos.\n",
    "\n",
    "- **Importe (Amount):** La columna Amount es el monto de la transacción.\n",
    "\n",
    "- **Clase (Class):** La columna Class es la variable objetivo, donde un valor de 1 indica una transacción fraudulenta y 0 indica una transacción legítima."
   ]
  },
  {
   "cell_type": "markdown",
   "id": "3c1f7557-5c3f-4de3-9681-f9d2fe5fab7a",
   "metadata": {},
   "source": [
    "# Exploración inicial"
   ]
  },
  {
   "cell_type": "code",
   "execution_count": 83,
   "id": "6165ebd9-0a9a-4dbe-81a2-550f93fd5e5d",
   "metadata": {},
   "outputs": [
    {
     "name": "stdout",
     "output_type": "stream",
     "text": [
      "       Time        V1        V2        V3        V4        V5        V6  \\\n",
      "0 -1.996583 -1.359807 -0.072781  2.536347  1.378155 -0.338321  0.462388   \n",
      "1 -1.996583  1.191857  0.266151  0.166480  0.448154  0.060018 -0.082361   \n",
      "2 -1.996562 -1.358354 -1.340163  1.773209  0.379780 -0.503198  1.800499   \n",
      "3 -1.996562 -0.966272 -0.185226  1.792993 -0.863291 -0.010309  1.247203   \n",
      "4 -1.996541 -1.158233  0.877737  1.548718  0.403034 -0.407193  0.095921   \n",
      "\n",
      "         V7        V8        V9  ...       V21       V22       V23       V24  \\\n",
      "0  0.239599  0.098698  0.363787  ... -0.018307  0.277838 -0.110474  0.066928   \n",
      "1 -0.078803  0.085102 -0.255425  ... -0.225775 -0.638672  0.101288 -0.339846   \n",
      "2  0.791461  0.247676 -1.514654  ...  0.247998  0.771679  0.909412 -0.689281   \n",
      "3  0.237609  0.377436 -1.387024  ... -0.108300  0.005274 -0.190321 -1.175575   \n",
      "4  0.592941 -0.270533  0.817739  ... -0.009431  0.798278 -0.137458  0.141267   \n",
      "\n",
      "        V25       V26       V27       V28    Amount  Class  \n",
      "0  0.128539 -0.189115  0.133558 -0.021053  0.244964      0  \n",
      "1  0.167170  0.125895 -0.008983  0.014724 -0.342475      0  \n",
      "2 -0.327642 -0.139097 -0.055353 -0.059752  1.160686      0  \n",
      "3  0.647376 -0.221929  0.062723  0.061458  0.140534      0  \n",
      "4 -0.206010  0.502292  0.219422  0.215153 -0.073403      0  \n",
      "\n",
      "[5 rows x 31 columns]\n",
      "<class 'pandas.core.frame.DataFrame'>\n",
      "RangeIndex: 284807 entries, 0 to 284806\n",
      "Data columns (total 31 columns):\n",
      " #   Column  Non-Null Count   Dtype  \n",
      "---  ------  --------------   -----  \n",
      " 0   Time    284807 non-null  float64\n",
      " 1   V1      284807 non-null  float64\n",
      " 2   V2      284807 non-null  float64\n",
      " 3   V3      284807 non-null  float64\n",
      " 4   V4      284807 non-null  float64\n",
      " 5   V5      284807 non-null  float64\n",
      " 6   V6      284807 non-null  float64\n",
      " 7   V7      284807 non-null  float64\n",
      " 8   V8      284807 non-null  float64\n",
      " 9   V9      284807 non-null  float64\n",
      " 10  V10     284807 non-null  float64\n",
      " 11  V11     284807 non-null  float64\n",
      " 12  V12     284807 non-null  float64\n",
      " 13  V13     284807 non-null  float64\n",
      " 14  V14     284807 non-null  float64\n",
      " 15  V15     284807 non-null  float64\n",
      " 16  V16     284807 non-null  float64\n",
      " 17  V17     284807 non-null  float64\n",
      " 18  V18     284807 non-null  float64\n",
      " 19  V19     284807 non-null  float64\n",
      " 20  V20     284807 non-null  float64\n",
      " 21  V21     284807 non-null  float64\n",
      " 22  V22     284807 non-null  float64\n",
      " 23  V23     284807 non-null  float64\n",
      " 24  V24     284807 non-null  float64\n",
      " 25  V25     284807 non-null  float64\n",
      " 26  V26     284807 non-null  float64\n",
      " 27  V27     284807 non-null  float64\n",
      " 28  V28     284807 non-null  float64\n",
      " 29  Amount  284807 non-null  float64\n",
      " 30  Class   284807 non-null  int64  \n",
      "dtypes: float64(30), int64(1)\n",
      "memory usage: 67.4 MB\n",
      "None\n",
      "(284807, 31)\n",
      "         Time     V1     V2     V3     V4     V5     V6     V7     V8     V9  \\\n",
      "0       False  False  False  False  False  False  False  False  False  False   \n",
      "1       False  False  False  False  False  False  False  False  False  False   \n",
      "2       False  False  False  False  False  False  False  False  False  False   \n",
      "3       False  False  False  False  False  False  False  False  False  False   \n",
      "4       False  False  False  False  False  False  False  False  False  False   \n",
      "...       ...    ...    ...    ...    ...    ...    ...    ...    ...    ...   \n",
      "284802  False  False  False  False  False  False  False  False  False  False   \n",
      "284803  False  False  False  False  False  False  False  False  False  False   \n",
      "284804  False  False  False  False  False  False  False  False  False  False   \n",
      "284805  False  False  False  False  False  False  False  False  False  False   \n",
      "284806  False  False  False  False  False  False  False  False  False  False   \n",
      "\n",
      "        ...    V21    V22    V23    V24    V25    V26    V27    V28  Amount  \\\n",
      "0       ...  False  False  False  False  False  False  False  False   False   \n",
      "1       ...  False  False  False  False  False  False  False  False   False   \n",
      "2       ...  False  False  False  False  False  False  False  False   False   \n",
      "3       ...  False  False  False  False  False  False  False  False   False   \n",
      "4       ...  False  False  False  False  False  False  False  False   False   \n",
      "...     ...    ...    ...    ...    ...    ...    ...    ...    ...     ...   \n",
      "284802  ...  False  False  False  False  False  False  False  False   False   \n",
      "284803  ...  False  False  False  False  False  False  False  False   False   \n",
      "284804  ...  False  False  False  False  False  False  False  False   False   \n",
      "284805  ...  False  False  False  False  False  False  False  False   False   \n",
      "284806  ...  False  False  False  False  False  False  False  False   False   \n",
      "\n",
      "        Class  \n",
      "0       False  \n",
      "1       False  \n",
      "2       False  \n",
      "3       False  \n",
      "4       False  \n",
      "...       ...  \n",
      "284802  False  \n",
      "284803  False  \n",
      "284804  False  \n",
      "284805  False  \n",
      "284806  False  \n",
      "\n",
      "[284807 rows x 31 columns]\n"
     ]
    }
   ],
   "source": [
    "# Mostrar las primeras filas\n",
    "print(datos.head())\n",
    "\n",
    "# Información general\n",
    "print(datos.info())\n",
    "\n",
    "# Número de filas y columnas\n",
    "print(datos.shape)\n",
    "\n",
    "# Datos nulos\n",
    "print(datos.isnull())"
   ]
  },
  {
   "cell_type": "code",
   "execution_count": 11,
   "id": "460c61ab-cfe3-4f05-bb9a-173a4de4df32",
   "metadata": {},
   "outputs": [
    {
     "name": "stdout",
     "output_type": "stream",
     "text": [
      "                Time            V1            V2            V3            V4  \\\n",
      "count  284807.000000  2.848070e+05  2.848070e+05  2.848070e+05  2.848070e+05   \n",
      "mean    94813.859575  1.168375e-15  3.416908e-16 -1.379537e-15  2.074095e-15   \n",
      "std     47488.145955  1.958696e+00  1.651309e+00  1.516255e+00  1.415869e+00   \n",
      "min         0.000000 -5.640751e+01 -7.271573e+01 -4.832559e+01 -5.683171e+00   \n",
      "25%     54201.500000 -9.203734e-01 -5.985499e-01 -8.903648e-01 -8.486401e-01   \n",
      "50%     84692.000000  1.810880e-02  6.548556e-02  1.798463e-01 -1.984653e-02   \n",
      "75%    139320.500000  1.315642e+00  8.037239e-01  1.027196e+00  7.433413e-01   \n",
      "max    172792.000000  2.454930e+00  2.205773e+01  9.382558e+00  1.687534e+01   \n",
      "\n",
      "                 V5            V6            V7            V8            V9  \\\n",
      "count  2.848070e+05  2.848070e+05  2.848070e+05  2.848070e+05  2.848070e+05   \n",
      "mean   9.604066e-16  1.487313e-15 -5.556467e-16  1.213481e-16 -2.406331e-15   \n",
      "std    1.380247e+00  1.332271e+00  1.237094e+00  1.194353e+00  1.098632e+00   \n",
      "min   -1.137433e+02 -2.616051e+01 -4.355724e+01 -7.321672e+01 -1.343407e+01   \n",
      "25%   -6.915971e-01 -7.682956e-01 -5.540759e-01 -2.086297e-01 -6.430976e-01   \n",
      "50%   -5.433583e-02 -2.741871e-01  4.010308e-02  2.235804e-02 -5.142873e-02   \n",
      "75%    6.119264e-01  3.985649e-01  5.704361e-01  3.273459e-01  5.971390e-01   \n",
      "max    3.480167e+01  7.330163e+01  1.205895e+02  2.000721e+01  1.559499e+01   \n",
      "\n",
      "       ...           V21           V22           V23           V24  \\\n",
      "count  ...  2.848070e+05  2.848070e+05  2.848070e+05  2.848070e+05   \n",
      "mean   ...  1.654067e-16 -3.568593e-16  2.578648e-16  4.473266e-15   \n",
      "std    ...  7.345240e-01  7.257016e-01  6.244603e-01  6.056471e-01   \n",
      "min    ... -3.483038e+01 -1.093314e+01 -4.480774e+01 -2.836627e+00   \n",
      "25%    ... -2.283949e-01 -5.423504e-01 -1.618463e-01 -3.545861e-01   \n",
      "50%    ... -2.945017e-02  6.781943e-03 -1.119293e-02  4.097606e-02   \n",
      "75%    ...  1.863772e-01  5.285536e-01  1.476421e-01  4.395266e-01   \n",
      "max    ...  2.720284e+01  1.050309e+01  2.252841e+01  4.584549e+00   \n",
      "\n",
      "                V25           V26           V27           V28         Amount  \\\n",
      "count  2.848070e+05  2.848070e+05  2.848070e+05  2.848070e+05  284807.000000   \n",
      "mean   5.340915e-16  1.683437e-15 -3.660091e-16 -1.227390e-16      88.349619   \n",
      "std    5.212781e-01  4.822270e-01  4.036325e-01  3.300833e-01     250.120109   \n",
      "min   -1.029540e+01 -2.604551e+00 -2.256568e+01 -1.543008e+01       0.000000   \n",
      "25%   -3.171451e-01 -3.269839e-01 -7.083953e-02 -5.295979e-02       5.600000   \n",
      "50%    1.659350e-02 -5.213911e-02  1.342146e-03  1.124383e-02      22.000000   \n",
      "75%    3.507156e-01  2.409522e-01  9.104512e-02  7.827995e-02      77.165000   \n",
      "max    7.519589e+00  3.517346e+00  3.161220e+01  3.384781e+01   25691.160000   \n",
      "\n",
      "               Class  \n",
      "count  284807.000000  \n",
      "mean        0.001727  \n",
      "std         0.041527  \n",
      "min         0.000000  \n",
      "25%         0.000000  \n",
      "50%         0.000000  \n",
      "75%         0.000000  \n",
      "max         1.000000  \n",
      "\n",
      "[8 rows x 31 columns]\n"
     ]
    }
   ],
   "source": [
    "print(datos.describe())"
   ]
  },
  {
   "cell_type": "code",
   "execution_count": 123,
   "id": "1cec9197-7590-46b6-b96b-c82ac68e6ed6",
   "metadata": {},
   "outputs": [
    {
     "name": "stdout",
     "output_type": "stream",
     "text": [
      "Collecting ydata-profiling\n",
      "  Obtaining dependency information for ydata-profiling from https://files.pythonhosted.org/packages/a8/e2/91e8ec48c5a9ba759847d74bb69475d22d79922f686e5252d0eb16e5bb85/ydata_profiling-4.12.1-py2.py3-none-any.whl.metadata\n",
      "  Downloading ydata_profiling-4.12.1-py2.py3-none-any.whl.metadata (20 kB)\n",
      "Requirement already satisfied: scipy<1.14,>=1.4.1 in c:\\users\\jonat\\anaconda3\\lib\\site-packages (from ydata-profiling) (1.11.1)\n",
      "Requirement already satisfied: pandas!=1.4.0,<3,>1.1 in c:\\users\\jonat\\anaconda3\\lib\\site-packages (from ydata-profiling) (2.0.3)\n",
      "Requirement already satisfied: matplotlib<3.10,>=3.5 in c:\\users\\jonat\\anaconda3\\lib\\site-packages (from ydata-profiling) (3.7.2)\n",
      "Requirement already satisfied: pydantic>=2 in c:\\users\\jonat\\anaconda3\\lib\\site-packages (from ydata-profiling) (2.8.2)\n",
      "Requirement already satisfied: PyYAML<6.1,>=5.0.0 in c:\\users\\jonat\\anaconda3\\lib\\site-packages (from ydata-profiling) (6.0.2)\n",
      "Requirement already satisfied: jinja2<3.2,>=2.11.1 in c:\\users\\jonat\\anaconda3\\lib\\site-packages (from ydata-profiling) (3.1.2)\n",
      "Collecting visions[type_image_path]<0.7.7,>=0.7.5 (from ydata-profiling)\n",
      "  Obtaining dependency information for visions[type_image_path]<0.7.7,>=0.7.5 from https://files.pythonhosted.org/packages/7c/bf/612b24e711ae25dea9af19b9304634b8949faa0b035fad47e8bcadf62f59/visions-0.7.6-py3-none-any.whl.metadata\n",
      "  Downloading visions-0.7.6-py3-none-any.whl.metadata (11 kB)\n",
      "Requirement already satisfied: numpy<2.2,>=1.16.0 in c:\\users\\jonat\\anaconda3\\lib\\site-packages (from ydata-profiling) (1.24.3)\n",
      "Collecting htmlmin==0.1.12 (from ydata-profiling)\n",
      "  Downloading htmlmin-0.1.12.tar.gz (19 kB)\n",
      "  Preparing metadata (setup.py): started\n",
      "  Preparing metadata (setup.py): finished with status 'done'\n",
      "Collecting phik<0.13,>=0.11.1 (from ydata-profiling)\n",
      "  Obtaining dependency information for phik<0.13,>=0.11.1 from https://files.pythonhosted.org/packages/95/e3/250ce99ed761389028543fcb876176ba619f6bf387d6cce3bab736bd92cc/phik-0.12.4-cp311-cp311-win_amd64.whl.metadata\n",
      "  Downloading phik-0.12.4-cp311-cp311-win_amd64.whl.metadata (5.6 kB)\n",
      "Requirement already satisfied: requests<3,>=2.24.0 in c:\\users\\jonat\\anaconda3\\lib\\site-packages (from ydata-profiling) (2.32.3)\n",
      "Requirement already satisfied: tqdm<5,>=4.48.2 in c:\\users\\jonat\\anaconda3\\lib\\site-packages (from ydata-profiling) (4.65.0)\n",
      "Requirement already satisfied: seaborn<0.14,>=0.10.1 in c:\\users\\jonat\\anaconda3\\lib\\site-packages (from ydata-profiling) (0.12.2)\n",
      "Collecting multimethod<2,>=1.4 (from ydata-profiling)\n",
      "  Obtaining dependency information for multimethod<2,>=1.4 from https://files.pythonhosted.org/packages/af/98/cff14d53a2f2f67d7fe8a4e235a383ee71aba6a1da12aeea24b325d0c72a/multimethod-1.12-py3-none-any.whl.metadata\n",
      "  Downloading multimethod-1.12-py3-none-any.whl.metadata (9.6 kB)\n",
      "Requirement already satisfied: statsmodels<1,>=0.13.2 in c:\\users\\jonat\\anaconda3\\lib\\site-packages (from ydata-profiling) (0.14.0)\n",
      "Collecting typeguard<5,>=3 (from ydata-profiling)\n",
      "  Obtaining dependency information for typeguard<5,>=3 from https://files.pythonhosted.org/packages/f2/53/9465dedf2d69fe26008e7732cf6e0a385e387c240869e7d54eed49782a3c/typeguard-4.4.1-py3-none-any.whl.metadata\n",
      "  Downloading typeguard-4.4.1-py3-none-any.whl.metadata (3.7 kB)\n",
      "Collecting imagehash==4.3.1 (from ydata-profiling)\n",
      "  Obtaining dependency information for imagehash==4.3.1 from https://files.pythonhosted.org/packages/2d/b4/19a746a986c6e38595fa5947c028b1b8e287773dcad766e648897ad2a4cf/ImageHash-4.3.1-py2.py3-none-any.whl.metadata\n",
      "  Downloading ImageHash-4.3.1-py2.py3-none-any.whl.metadata (8.0 kB)\n",
      "Collecting wordcloud>=1.9.3 (from ydata-profiling)\n",
      "  Obtaining dependency information for wordcloud>=1.9.3 from https://files.pythonhosted.org/packages/00/09/abb305dce85911b8fba382926cfc57f2f257729e25937fdcc63f3a1a67f9/wordcloud-1.9.4-cp311-cp311-win_amd64.whl.metadata\n",
      "  Downloading wordcloud-1.9.4-cp311-cp311-win_amd64.whl.metadata (3.5 kB)\n",
      "Collecting dacite>=1.8 (from ydata-profiling)\n",
      "  Obtaining dependency information for dacite>=1.8 from https://files.pythonhosted.org/packages/21/0f/cf0943f4f55f0fbc7c6bd60caf1343061dff818b02af5a0d444e473bb78d/dacite-1.8.1-py3-none-any.whl.metadata\n",
      "  Downloading dacite-1.8.1-py3-none-any.whl.metadata (15 kB)\n",
      "Requirement already satisfied: numba<1,>=0.56.0 in c:\\users\\jonat\\anaconda3\\lib\\site-packages (from ydata-profiling) (0.57.1)\n",
      "Requirement already satisfied: PyWavelets in c:\\users\\jonat\\anaconda3\\lib\\site-packages (from imagehash==4.3.1->ydata-profiling) (1.4.1)\n",
      "Requirement already satisfied: pillow in c:\\users\\jonat\\anaconda3\\lib\\site-packages (from imagehash==4.3.1->ydata-profiling) (10.0.1)\n",
      "Requirement already satisfied: MarkupSafe>=2.0 in c:\\users\\jonat\\anaconda3\\lib\\site-packages (from jinja2<3.2,>=2.11.1->ydata-profiling) (2.1.1)\n",
      "Requirement already satisfied: contourpy>=1.0.1 in c:\\users\\jonat\\anaconda3\\lib\\site-packages (from matplotlib<3.10,>=3.5->ydata-profiling) (1.0.5)\n",
      "Requirement already satisfied: cycler>=0.10 in c:\\users\\jonat\\anaconda3\\lib\\site-packages (from matplotlib<3.10,>=3.5->ydata-profiling) (0.11.0)\n",
      "Requirement already satisfied: fonttools>=4.22.0 in c:\\users\\jonat\\anaconda3\\lib\\site-packages (from matplotlib<3.10,>=3.5->ydata-profiling) (4.25.0)\n",
      "Requirement already satisfied: kiwisolver>=1.0.1 in c:\\users\\jonat\\anaconda3\\lib\\site-packages (from matplotlib<3.10,>=3.5->ydata-profiling) (1.4.4)\n",
      "Requirement already satisfied: packaging>=20.0 in c:\\users\\jonat\\anaconda3\\lib\\site-packages (from matplotlib<3.10,>=3.5->ydata-profiling) (23.1)\n",
      "Requirement already satisfied: pyparsing<3.1,>=2.3.1 in c:\\users\\jonat\\anaconda3\\lib\\site-packages (from matplotlib<3.10,>=3.5->ydata-profiling) (3.0.9)\n",
      "Requirement already satisfied: python-dateutil>=2.7 in c:\\users\\jonat\\anaconda3\\lib\\site-packages (from matplotlib<3.10,>=3.5->ydata-profiling) (2.8.2)\n",
      "Requirement already satisfied: llvmlite<0.41,>=0.40.0dev0 in c:\\users\\jonat\\anaconda3\\lib\\site-packages (from numba<1,>=0.56.0->ydata-profiling) (0.40.0)\n",
      "Requirement already satisfied: pytz>=2020.1 in c:\\users\\jonat\\anaconda3\\lib\\site-packages (from pandas!=1.4.0,<3,>1.1->ydata-profiling) (2023.3.post1)\n",
      "Requirement already satisfied: tzdata>=2022.1 in c:\\users\\jonat\\anaconda3\\lib\\site-packages (from pandas!=1.4.0,<3,>1.1->ydata-profiling) (2023.3)\n",
      "Requirement already satisfied: joblib>=0.14.1 in c:\\users\\jonat\\anaconda3\\lib\\site-packages (from phik<0.13,>=0.11.1->ydata-profiling) (1.2.0)\n",
      "Requirement already satisfied: annotated-types>=0.4.0 in c:\\users\\jonat\\anaconda3\\lib\\site-packages (from pydantic>=2->ydata-profiling) (0.6.0)\n",
      "Requirement already satisfied: pydantic-core==2.20.1 in c:\\users\\jonat\\anaconda3\\lib\\site-packages (from pydantic>=2->ydata-profiling) (2.20.1)\n",
      "Requirement already satisfied: typing-extensions>=4.6.1 in c:\\users\\jonat\\anaconda3\\lib\\site-packages (from pydantic>=2->ydata-profiling) (4.7.1)\n",
      "Requirement already satisfied: charset-normalizer<4,>=2 in c:\\users\\jonat\\anaconda3\\lib\\site-packages (from requests<3,>=2.24.0->ydata-profiling) (2.0.4)\n",
      "Requirement already satisfied: idna<4,>=2.5 in c:\\users\\jonat\\anaconda3\\lib\\site-packages (from requests<3,>=2.24.0->ydata-profiling) (3.4)\n",
      "Requirement already satisfied: urllib3<3,>=1.21.1 in c:\\users\\jonat\\anaconda3\\lib\\site-packages (from requests<3,>=2.24.0->ydata-profiling) (1.26.16)\n",
      "Requirement already satisfied: certifi>=2017.4.17 in c:\\users\\jonat\\anaconda3\\lib\\site-packages (from requests<3,>=2.24.0->ydata-profiling) (2024.12.14)\n",
      "Requirement already satisfied: patsy>=0.5.2 in c:\\users\\jonat\\anaconda3\\lib\\site-packages (from statsmodels<1,>=0.13.2->ydata-profiling) (0.5.3)\n",
      "Requirement already satisfied: colorama in c:\\users\\jonat\\anaconda3\\lib\\site-packages (from tqdm<5,>=4.48.2->ydata-profiling) (0.4.6)\n",
      "Collecting typing-extensions>=4.6.1 (from pydantic>=2->ydata-profiling)\n",
      "  Obtaining dependency information for typing-extensions>=4.6.1 from https://files.pythonhosted.org/packages/26/9f/ad63fc0248c5379346306f8668cda6e2e2e9c95e01216d2b8ffd9ff037d0/typing_extensions-4.12.2-py3-none-any.whl.metadata\n",
      "  Downloading typing_extensions-4.12.2-py3-none-any.whl.metadata (3.0 kB)\n",
      "Requirement already satisfied: attrs>=19.3.0 in c:\\users\\jonat\\anaconda3\\lib\\site-packages (from visions[type_image_path]<0.7.7,>=0.7.5->ydata-profiling) (24.3.0)\n",
      "Requirement already satisfied: networkx>=2.4 in c:\\users\\jonat\\anaconda3\\lib\\site-packages (from visions[type_image_path]<0.7.7,>=0.7.5->ydata-profiling) (3.1)\n",
      "Requirement already satisfied: six in c:\\users\\jonat\\anaconda3\\lib\\site-packages (from patsy>=0.5.2->statsmodels<1,>=0.13.2->ydata-profiling) (1.16.0)\n",
      "Downloading ydata_profiling-4.12.1-py2.py3-none-any.whl (390 kB)\n",
      "   ---------------------------------------- 0.0/390.9 kB ? eta -:--:--\n",
      "   --- ------------------------------------ 30.7/390.9 kB 1.3 MB/s eta 0:00:01\n",
      "   ---- ---------------------------------- 41.0/390.9 kB 991.0 kB/s eta 0:00:01\n",
      "   --------- ---------------------------- 102.4/390.9 kB 837.8 kB/s eta 0:00:01\n",
      "   --------- ---------------------------- 102.4/390.9 kB 837.8 kB/s eta 0:00:01\n",
      "   --------------------- ---------------- 225.3/390.9 kB 981.9 kB/s eta 0:00:01\n",
      "   ------------------------ ------------- 256.0/390.9 kB 923.9 kB/s eta 0:00:01\n",
      "   ---------------------------------------- 390.9/390.9 kB 1.2 MB/s eta 0:00:00\n",
      "Downloading ImageHash-4.3.1-py2.py3-none-any.whl (296 kB)\n",
      "   ---------------------------------------- 0.0/296.5 kB ? eta -:--:--\n",
      "   -------------------------------------- - 286.7/296.5 kB 8.6 MB/s eta 0:00:01\n",
      "   ---------------------------------------- 296.5/296.5 kB 6.1 MB/s eta 0:00:00\n",
      "Downloading dacite-1.8.1-py3-none-any.whl (14 kB)\n",
      "Downloading multimethod-1.12-py3-none-any.whl (10 kB)\n",
      "Downloading phik-0.12.4-cp311-cp311-win_amd64.whl (667 kB)\n",
      "   ---------------------------------------- 0.0/667.1 kB ? eta -:--:--\n",
      "   ----------------------------- --------- 501.8/667.1 kB 15.9 MB/s eta 0:00:01\n",
      "   ----------------------------- --------- 512.0/667.1 kB 16.2 MB/s eta 0:00:01\n",
      "   ---------------------------------------- 667.1/667.1 kB 6.0 MB/s eta 0:00:00\n",
      "Downloading typeguard-4.4.1-py3-none-any.whl (35 kB)\n",
      "Downloading wordcloud-1.9.4-cp311-cp311-win_amd64.whl (299 kB)\n",
      "   ---------------------------------------- 0.0/299.9 kB ? eta -:--:--\n",
      "   --------------------------------------- 299.9/299.9 kB 18.1 MB/s eta 0:00:00\n",
      "Downloading typing_extensions-4.12.2-py3-none-any.whl (37 kB)\n",
      "Downloading visions-0.7.6-py3-none-any.whl (104 kB)\n",
      "   ---------------------------------------- 0.0/104.8 kB ? eta -:--:--\n",
      "   ---------------------------------------- 104.8/104.8 kB ? eta 0:00:00\n",
      "Building wheels for collected packages: htmlmin\n",
      "  Building wheel for htmlmin (setup.py): started\n",
      "  Building wheel for htmlmin (setup.py): finished with status 'done'\n",
      "  Created wheel for htmlmin: filename=htmlmin-0.1.12-py3-none-any.whl size=27092 sha256=f82f40cc14054ce437548cbf915024792f632122af977825c25372b251b18730\n",
      "  Stored in directory: c:\\users\\jonat\\appdata\\local\\pip\\cache\\wheels\\8d\\55\\1a\\19cd535375ed1ede0c996405ebffe34b196d78e2d9545723a2\n",
      "Successfully built htmlmin\n",
      "Installing collected packages: htmlmin, typing-extensions, multimethod, dacite, typeguard, imagehash, wordcloud, visions, phik, ydata-profiling\n",
      "  Attempting uninstall: typing-extensions\n",
      "    Found existing installation: typing_extensions 4.7.1\n",
      "    Uninstalling typing_extensions-4.7.1:\n",
      "      Successfully uninstalled typing_extensions-4.7.1\n",
      "Successfully installed dacite-1.8.1 htmlmin-0.1.12 imagehash-4.3.1 multimethod-1.12 phik-0.12.4 typeguard-4.4.1 typing-extensions-4.12.2 visions-0.7.6 wordcloud-1.9.4 ydata-profiling-4.12.1\n",
      "Note: you may need to restart the kernel to use updated packages.\n"
     ]
    }
   ],
   "source": [
    "pip install ydata-profiling"
   ]
  },
  {
   "cell_type": "code",
   "execution_count": 125,
   "id": "78535aa9-4542-408f-998a-637e782fd75c",
   "metadata": {},
   "outputs": [],
   "source": [
    "from ydata_profiling import ProfileReport"
   ]
  },
  {
   "cell_type": "code",
   "execution_count": 127,
   "id": "097a2a80-725f-428a-b6ef-b24dfd23fbfa",
   "metadata": {},
   "outputs": [],
   "source": [
    "profile = ProfileReport(datos, title=\"Credit Card Profiling Report\")"
   ]
  },
  {
   "cell_type": "code",
   "execution_count": 129,
   "id": "7e4334d3-6f43-4566-831b-cd5e48a18f80",
   "metadata": {},
   "outputs": [
    {
     "data": {
      "application/vnd.jupyter.widget-view+json": {
       "model_id": "78ede1a4821e45e5b94fa377c0d46866",
       "version_major": 2,
       "version_minor": 0
      },
      "text/plain": [
       "Summarize dataset:   0%|          | 0/5 [00:00<?, ?it/s]"
      ]
     },
     "metadata": {},
     "output_type": "display_data"
    },
    {
     "data": {
      "application/vnd.jupyter.widget-view+json": {
       "model_id": "d858303a9c1843f0b31106a73756a778",
       "version_major": 2,
       "version_minor": 0
      },
      "text/plain": [
       "Generate report structure:   0%|          | 0/1 [00:00<?, ?it/s]"
      ]
     },
     "metadata": {},
     "output_type": "display_data"
    },
    {
     "data": {
      "application/vnd.jupyter.widget-view+json": {
       "model_id": "6a9b4a14c29e4503a9b69ab7a2537c65",
       "version_major": 2,
       "version_minor": 0
      },
      "text/plain": [
       "Render HTML:   0%|          | 0/1 [00:00<?, ?it/s]"
      ]
     },
     "metadata": {},
     "output_type": "display_data"
    },
    {
     "data": {
      "application/vnd.jupyter.widget-view+json": {
       "model_id": "a93f8a66504144c4ad3b6dbde1498b72",
       "version_major": 2,
       "version_minor": 0
      },
      "text/plain": [
       "Export report to file:   0%|          | 0/1 [00:00<?, ?it/s]"
      ]
     },
     "metadata": {},
     "output_type": "display_data"
    }
   ],
   "source": [
    "profile.to_file(\"CreditCard_profile.html\")"
   ]
  },
  {
   "cell_type": "markdown",
   "id": "35dde8e2-80ff-4f6f-87ce-2f978473f966",
   "metadata": {},
   "source": [
    "# Análisis exploratorio de datos (EDA)"
   ]
  },
  {
   "cell_type": "markdown",
   "id": "3a5b9b7c-54f9-4f42-997d-dcab72211e1c",
   "metadata": {},
   "source": [
    "## Distribución de la variable objetivo\n",
    "- Class: Variable objetivo\n",
    "- Analizar la proporción de transacciones fraudulentas y no fraudulentas.\n",
    "- Class 1 indica una transacción fraudulenta\n",
    "- Class 0 indica una transacción legítima"
   ]
  },
  {
   "cell_type": "code",
   "execution_count": 13,
   "id": "164d278d-e26e-4d43-ab8b-d572fed5e233",
   "metadata": {},
   "outputs": [
    {
     "data": {
      "text/plain": [
       "Class\n",
       "0    284315\n",
       "1       492\n",
       "Name: count, dtype: int64"
      ]
     },
     "execution_count": 13,
     "metadata": {},
     "output_type": "execute_result"
    }
   ],
   "source": [
    "# Conteo de transacciones fraudulentas y legítimas\n",
    "class_counts = datos['Class'].value_counts()\n",
    "class_counts"
   ]
  },
  {
   "cell_type": "markdown",
   "id": "1949be1b-f2e6-4343-8d56-6497837714c3",
   "metadata": {},
   "source": [
    "Las transacciones fraudulentas son una minoría (0.173%), esto significa que los datos están desbalanceados. Si bien con los datos numéricos es bastante claro, con la siguiente gráfica quedará mejor ejemplificado."
   ]
  },
  {
   "cell_type": "code",
   "execution_count": 15,
   "id": "15505741-34d3-47ea-97c1-63fbcfa54f40",
   "metadata": {},
   "outputs": [
    {
     "data": {
      "image/png": "[encoded data removed]",
      "text/plain": [
       "<Figure size 640x480 with 1 Axes>"
      ]
     },
     "metadata": {},
     "output_type": "display_data"
    }
   ],
   "source": [
    "# Gráfica del conteo\n",
    "sns.barplot(x=class_counts.index, y=class_counts.values)\n",
    "plt.title('Distribución de Transacciones')\n",
    "plt.xlabel('Clase')\n",
    "plt.ylabel('Frecuencia')\n",
    "plt.show()"
   ]
  },
  {
   "cell_type": "markdown",
   "id": "159134f5-d3a4-44e6-95d9-c81bc0c155b5",
   "metadata": {},
   "source": [
    "## Análisis de las características\n",
    "- Dado que las características (V1 a V28)han sido transformadas para mantener la confidencialidad de la información y es difícil su interpretación y análisis aún se puede calcular su importancia.\n",
    "- Se pueden analizar los datos de las columnas Amount y Time."
   ]
  },
  {
   "cell_type": "markdown",
   "id": "1965a1cc-41fa-48c3-ae98-bf876c39c511",
   "metadata": {},
   "source": [
    "### Importancia de las características\n",
    "\n",
    "Al evaluar la importancia de las características presentes en el dataset, se observa que algunas de las variables transformadas muestran cierta relevancia. Sin embargo, debido a que ya han sido modificadas con PCA y a su naturaleza de información clasificada (como datos personales, números de tarjeta, correos electrónicos u otra información sensible), estas variables no contribuyen de manera significativa y no son relevantes para el análisis."
   ]
  },
  {
   "cell_type": "code",
   "execution_count": 105,
   "id": "909bd3ab-534e-4c84-9935-5ef67d1a5502",
   "metadata": {},
   "outputs": [
    {
     "data": {
      "image/png": "[encoded data removed]",
      "text/plain": [
       "<Figure size 640x480 with 1 Axes>"
      ]
     },
     "metadata": {},
     "output_type": "display_data"
    }
   ],
   "source": [
    "importances = modelo_gb.feature_importances_\n",
    "feature_names = X_train.columns\n",
    "\n",
    "plt.barh(feature_names, importances)\n",
    "plt.title('Importancia de las características')\n",
    "plt.show()"
   ]
  },
  {
   "cell_type": "code",
   "execution_count": 29,
   "id": "717939b2-41a5-4e63-9c93-061a41cff9a2",
   "metadata": {},
   "outputs": [
    {
     "data": {
      "image/png": "[encoded data removed]",
      "text/plain": [
       "<Figure size 640x480 with 1 Axes>"
      ]
     },
     "metadata": {},
     "output_type": "display_data"
    }
   ],
   "source": [
    "# Histograma de Amount\n",
    "sns.histplot(datos[datos['Class'] == 0]['Amount'], bins=50, color='blue', label='Legítimas', kde=True)\n",
    "sns.histplot(datos[datos['Class'] == 1]['Amount'], bins=50, color='red', label='Fraudulentas', kde=True)\n",
    "plt.legend()\n",
    "plt.title('Distribución de Monto por Clase')\n",
    "plt.show()"
   ]
  },
  {
   "cell_type": "markdown",
   "id": "70993522-b110-4551-9746-2d9fd90bdb50",
   "metadata": {},
   "source": [
    "### ¿Qué podemos observar en el gráfico?\n",
    "\n",
    "En la gráfica tenemos dos histogramas superpuestos:\n",
    "- Montos de transacciones no fraudulentas (azul) suelen concentrarse en rangos específicos, como pequeñas o medianas transacciones.\n",
    "- Montos de transacciones fraudulentas (rojo) podrían mostrar una distribución diferente:\n",
    "  - Podrían estar más dispersos.\n",
    "  - Podrían ser más frecuentes en un rango específico de valores."
   ]
  },
  {
   "cell_type": "code",
   "execution_count": 108,
   "id": "a2a7c182-529e-414b-aa9e-0c4a25770435",
   "metadata": {},
   "outputs": [
    {
     "data": {
      "image/png": "[encoded data removed]",
      "text/plain": [
       "<Figure size 640x480 with 1 Axes>"
      ]
     },
     "metadata": {},
     "output_type": "display_data"
    }
   ],
   "source": [
    "# Histograma de Time\n",
    "sns.histplot(datos[datos['Class'] == 0]['Time'], bins=50, color='blue', label='Legítimas', kde=True)\n",
    "sns.histplot(datos[datos['Class'] == 1]['Time'], bins=50, color='red', label='Fraudulentas', kde=True)\n",
    "plt.legend()\n",
    "plt.title('Distribución de Tiempo por Clase')\n",
    "plt.show()"
   ]
  },
  {
   "cell_type": "markdown",
   "id": "210992af-b875-48e4-a0ec-dda424c7463a",
   "metadata": {},
   "source": [
    "### ¿Qué podemos observar en el gráfico?\n",
    "\n",
    "El gráfico muestra que las transacciones legítimas (azul) tienen una distribución bimodal con patrones claros en ciertos rangos de tiempo, mientras que las fraudulentas (rojo) son escasas y dispersas. Esto sugiere que el tiempo por sí solo no es suficiente para diferenciar entre transacciones legítimas y fraudulentas, aunque podría ser útil en combinación con otras variables."
   ]
  },
  {
   "cell_type": "markdown",
   "id": "529fb435-224a-40dc-8581-64b38ba50c27",
   "metadata": {},
   "source": [
    "### Correlaciones\n",
    "\n",
    "Las tres variables (Amount, Time y Class) estudiadas son prácticamente independientes entre sí, ya que todas las correlaciones son cercanas a cero. Esto sugiere que:\n",
    "\n",
    "- El monto de la transacción no está relacionado con la hora en que ocurre\n",
    "- El monto no influye en si una transacción es fraudulenta o no (Class)\n",
    "- La hora de la transacción no está relacionada con la probabilidad de fraude\n",
    "\n",
    "Esto es interesante desde el punto de vista del análisis de fraudes, ya que indica que las transacciones fraudulentas pueden ocurrir en cualquier momento y por cualquier monto."
   ]
  },
  {
   "cell_type": "code",
   "execution_count": 139,
   "id": "f5917f64-56fb-4e0c-88bf-1701cf19707e",
   "metadata": {},
   "outputs": [
    {
     "data": {
      "image/png": "[encoded data removed]",
      "text/plain": [
       "<Figure size 800x600 with 2 Axes>"
      ]
     },
     "metadata": {},
     "output_type": "display_data"
    }
   ],
   "source": [
    "# Calcular la matriz de correlación\n",
    "correlation_matrix = datos[['Amount', 'Time', 'Class']].corr()\n",
    "\n",
    "# Crear el mapa de calor\n",
    "plt.figure(figsize=(8, 6))\n",
    "sns.heatmap(correlation_matrix, \n",
    "            annot=True,                # Muestra los valores numéricos\n",
    "            cmap='RdYlBu_r',           # Paleta más suave\n",
    "            vmin=-1, vmax=1,           # Rango de valores\n",
    "            center=0,                  # Centro del mapa de calor\n",
    "            fmt='.2f',                 # Formato de números con 2 decimales\n",
    "            cbar_kws={'alpha':0.5})    # Hace la barra de color más transparente\n",
    "\n",
    "# Ajustar la intensidad general\n",
    "plt.alpha = 0.7\n",
    "\n",
    "# Añadir título\n",
    "plt.title('Mapa de Calor - Correlaciones')\n",
    "\n",
    "# Mostrar el gráfico\n",
    "plt.show()"
   ]
  },
  {
   "cell_type": "markdown",
   "id": "5de47664-a4c2-4b10-a179-40785627562b",
   "metadata": {},
   "source": [
    "## Análisis estadístico de la variable Amount\n",
    "\n",
    "En la exploración inicial de los datos se obtuvo información estadística del conjunto de datos:\n",
    "\n",
    "| Estadística | Amount |\n",
    "|------------|-----------|\n",
    "| count | 284,807.000000 |\n",
    "| mean | 88.349619 |\n",
    "| std | 250.120109 |\n",
    "| min | 0.000000 |\n",
    "| 25% | 5.600000 |\n",
    "| 50% | 22.000000 |\n",
    "| 75% | 77.165000 |\n",
    "| max | 25,691.160000 |\n",
    "\n",
    "Analizando estas estadísticas descriptivas, puedo inferir varios aspectos importantes:\n",
    "\n",
    "**1. Distribución muy asimétrica (sesgada a la derecha):**\n",
    "- La media (88.35) es significativamente mayor que la mediana (22.00)\n",
    "- Hay una gran diferencia entre el máximo (25,691.16) y el 75% percentil (77.165)\n",
    "- Esta asimetría sugiere que hay algunos valores muy altos que están \"jalando\" la media hacia arriba\n",
    "\n",
    "**2. Alta dispersión de los datos:**\n",
    "- La desviación estándar (250.12) es casi 3 veces mayor que la media (88.35)\n",
    "- El rango es muy amplio: desde 0 hasta 25,691.16\n",
    "- Esto indica que hay una gran variabilidad en los valores\n",
    "\n",
    "**3. Concentración de valores bajos:**\n",
    "- El 50% de los datos está por debajo de 22.00\n",
    "- El 75% de los datos está por debajo de 77.165\n",
    "- Esto sugiere que la mayoría de los valores son relativamente bajos\n",
    "\n",
    "**4. Posibles outliers:**\n",
    "- La gran diferencia entre el máximo (25,691.16) y el 75% percentil (77.165) sugiere la presencia de valores atípicos\n",
    "- Estos outliers podrían ser transacciones inusuales o potencialmente fraudulentas\n",
    "\n",
    "**5. Tamaño de muestra:**\n",
    "- Con 284,807 observaciones, es un conjunto de datos bastante grande\n",
    "- Esto da robustez a las conclusiones estadísticas\n",
    "\n",
    "**6. Dado el contexto de transacciones con tarjetas de crédito, estos patrones tienen sentido:**\n",
    "- La mayoría de las transacciones son de montos pequeños (compras cotidianas)\n",
    "- Hay algunas transacciones de montos muy altos (compras excepcionales)\n",
    "- La presencia de valores atípicos podría indicar transacciones fraudulentas o compras de lujo"
   ]
  },
  {
   "cell_type": "markdown",
   "id": "e34e7f18-ea6c-41b0-b1cb-0575c54e4d95",
   "metadata": {},
   "source": [
    "# Preprocesamiento de Datos"
   ]
  },
  {
   "cell_type": "markdown",
   "id": "26ae7f15-32c1-4c68-8577-5a2e14f43ce0",
   "metadata": {},
   "source": [
    "## Estandarización\n",
    "Para mejorar el rendimiento del modelo se estandarizarán las variables Amount y Time."
   ]
  },
  {
   "cell_type": "code",
   "execution_count": 31,
   "id": "9a85b7cc-c09a-46fd-a662-d09f09e4175c",
   "metadata": {},
   "outputs": [],
   "source": [
    "from sklearn.preprocessing import StandardScaler\n",
    "\n",
    "# Estandarizar Amount y Time\n",
    "datos['Amount'] = StandardScaler().fit_transform(datos['Amount'].values.reshape(-1, 1))\n",
    "datos['Time'] = StandardScaler().fit_transform(datos['Time'].values.reshape(-1, 1))"
   ]
  },
  {
   "cell_type": "markdown",
   "id": "b9f29313-ec84-45ce-86cf-b525e5a910b3",
   "metadata": {},
   "source": [
    "## División de datos\n",
    "A continuación se separarán las características (X) y la variable objetivo (y)."
   ]
  },
  {
   "cell_type": "code",
   "execution_count": 33,
   "id": "dfb34213-ff57-40bd-82fa-069fb4b3b771",
   "metadata": {},
   "outputs": [],
   "source": [
    "X = datos.drop('Class', axis=1)   # Contendrá las variables predictoras, es decir, todas las columnas excepto la columna Class.\n",
    "y = datos['Class']   # Contendrá la variable objetivo, que en este caso es Class."
   ]
  },
  {
   "cell_type": "markdown",
   "id": "79cc3b2d-d169-4464-a14f-e9c6bcbabccf",
   "metadata": {},
   "source": [
    "## Balanceo de clases\n",
    "Dado que las transacciones fraudulentas son una minoría, es crucial abordar el desbalanceo. Para ello se utilizará la técnica de resampling SMOTE (Synthetic Minority Over-sampling Technique), que es una técnica de remuestreo utilizada para abordar el problema de desbalance de clases en conjuntos de datos.\n",
    "\n",
    "Según el modelo de lenguaje Claude (claude.ai), estás son las características de la técnica SMOTE:\n",
    "\n",
    "**1. Funciona así:**\n",
    "- Toma muestras de la clase minoritaria\n",
    "- Crea ejemplos sintéticos (artificiales) similares a los existentes\n",
    "- Genera nuevos datos interpolando entre ejemplos cercanos de la clase minoritaria\n",
    "\n",
    "**2. Sus principales características son:**\n",
    "- Evita el sobreajuste que puede ocurrir con el sobremuestreo simple (duplicar casos)\n",
    "- Crea ejemplos sintéticos en lugar de copiar los existentes\n",
    "- Utiliza el algoritmo de k vecinos más cercanos para generar nuevas instancias\n",
    "- Ayuda a mejorar la detección de la clase minoritaria sin perder generalización\n",
    "\n",
    "**3. Es especialmente útil en casos como:**\n",
    "- Detección de fraude (donde hay pocas transacciones fraudulentas)\n",
    "- Diagnóstico médico (donde los casos positivos son menos frecuentes)\n",
    "- Detección de fallos (donde los fallos son eventos raros)"
   ]
  },
  {
   "cell_type": "code",
   "execution_count": 26,
   "id": "b01fd633-d842-4e41-b6c1-1078c4bbbbd9",
   "metadata": {},
   "outputs": [
    {
     "name": "stdout",
     "output_type": "stream",
     "text": [
      "Note: you may need to restart the kernel to use updated packages.\n"
     ]
    },
    {
     "name": "stderr",
     "output_type": "stream",
     "text": [
      "ERROR: Invalid requirement: '#'\n"
     ]
    }
   ],
   "source": [
    "pip install --upgrade scikit-learn imbalanced-learn   # Fue necesario actualizar scikit-learn e imblearn para que fueran compatibles."
   ]
  },
  {
   "cell_type": "code",
   "execution_count": 35,
   "id": "be613bd6-ec9e-4c09-9eb8-a98f1b0d33a6",
   "metadata": {},
   "outputs": [],
   "source": [
    "from imblearn.over_sampling import SMOTE   # Para técnicas de balanceo de datos.\n",
    "\n",
    "smote = SMOTE(random_state=42)\n",
    "X_res, y_res = smote.fit_resample(X, y)"
   ]
  },
  {
   "cell_type": "markdown",
   "id": "af2f0066-a556-405c-9ad9-9709055b4780",
   "metadata": {},
   "source": [
    "# División del conjunto de datos\n",
    "Se dividirán los datos en dos conjuntos, datos de entrenamiento y datos de prueba.\n",
    "\n",
    "Se dividirán los datos que ya han sido balanceados utilizando la técnica SMOTE (es decir, X_res y y_res) en cuatro conjuntos:\n",
    "- X_train: Conjunto de características para entrenar el modelo.\n",
    "- X_test: Conjunto de características para probar el modelo.\n",
    "- y_train: Etiquetas de clase (fraude o no fraude) correspondientes al conjunto de entrenamiento.\n",
    "- y_test: Etiquetas de clase correspondientes al conjunto de prueba.\n",
    "\n",
    "En este caso, el 20% de los datos (0.2) se destinarán para la evaluación del modelo y el 80% restante se usará para entrenarlo. Esto permite que el modelo se entrene con una gran parte de los datos y se evalúe con una muestra que no haya sido usada en el entrenamiento. \n",
    "\n",
    "random_state=42: Este es un parámetro que garantiza que la división de los datos sea reproducible. Si no se establece random_state, se generará una división diferente cada vez que se ejecute el código."
   ]
  },
  {
   "cell_type": "code",
   "execution_count": 37,
   "id": "8f450761-6fe5-4970-8353-e546934aa780",
   "metadata": {},
   "outputs": [],
   "source": [
    "from sklearn.model_selection import train_test_split\n",
    "\n",
    "X_train, X_test, y_train, y_test = train_test_split(X_res, y_res, test_size=0.2, random_state=42)"
   ]
  },
  {
   "cell_type": "markdown",
   "id": "94a961b3-5273-42b9-aa71-e306041e50fc",
   "metadata": {},
   "source": [
    "# Entrenamiento de modelos\n",
    "A continuación se entrenarán 4 modelos de clasificación:"
   ]
  },
  {
   "cell_type": "markdown",
   "id": "19e7353d-5487-45af-817b-637269e7fa01",
   "metadata": {},
   "source": [
    "## 1 Regresión logística"
   ]
  },
  {
   "cell_type": "code",
   "execution_count": 67,
   "id": "a1a945a5-4e8b-4425-830a-5bd873f2760d",
   "metadata": {},
   "outputs": [
    {
     "name": "stdout",
     "output_type": "stream",
     "text": [
      "[1 1 0 ... 1 1 0]\n",
      "[[5.99520433e-15 1.00000000e+00]\n",
      " [6.81676937e-14 1.00000000e+00]\n",
      " [9.34746483e-01 6.52535174e-02]\n",
      " ...\n",
      " [4.85306153e-01 5.14693847e-01]\n",
      " [0.00000000e+00 1.00000000e+00]\n",
      " [8.32807011e-01 1.67192989e-01]]\n",
      "0.9489035049153228\n"
     ]
    }
   ],
   "source": [
    "from sklearn.linear_model import LogisticRegression\n",
    "\n",
    "# Inicializar el modelo\n",
    "modelo_lr = LogisticRegression()\n",
    "\n",
    "#Entrenar el modelo\n",
    "modelo_lr.fit(X_train, y_train)\n",
    "\n",
    "# Realizar predicciones en el conjunto de test\n",
    "print(modelo_lr.predict(X_test))\n",
    "\n",
    "print(modelo_lr.predict_proba(X_test))\n",
    "print(modelo_lr.score(X_test, y_test))   # Accuracy"
   ]
  },
  {
   "cell_type": "markdown",
   "id": "f91487a0-3d60-4049-8033-c5759be9d4c5",
   "metadata": {},
   "source": [
    "### Evaluación del modelo"
   ]
  },
  {
   "cell_type": "code",
   "execution_count": 69,
   "id": "9269b387-f635-4979-b23b-b4f49bc340f9",
   "metadata": {},
   "outputs": [
    {
     "name": "stdout",
     "output_type": "stream",
     "text": [
      "Exactitud del modelo: 0.95\n",
      "\n",
      "Matriz de confusión:\n",
      "[[55368  1382]\n",
      " [ 4429 52547]]\n",
      "\n",
      "Reporte de clasificación:\n",
      "              precision    recall  f1-score   support\n",
      "\n",
      "           0       0.93      0.98      0.95     56750\n",
      "           1       0.97      0.92      0.95     56976\n",
      "\n",
      "    accuracy                           0.95    113726\n",
      "   macro avg       0.95      0.95      0.95    113726\n",
      "weighted avg       0.95      0.95      0.95    113726\n",
      "\n"
     ]
    }
   ],
   "source": [
    "from sklearn.metrics import accuracy_score, confusion_matrix, classification_report\n",
    "\n",
    "# Predecir con el modelo entrenado\n",
    "y_pred = modelo_lr.predict(X_test)\n",
    "\n",
    "# Evaluar el rendimiento del modelo\n",
    "# Exactitud\n",
    "accuracy = accuracy_score(y_test, y_pred)\n",
    "print(f\"Exactitud del modelo: {accuracy:.2f}\")\n",
    "print()\n",
    "# Matriz de confusión\n",
    "cm = confusion_matrix(y_test, y_pred)\n",
    "print(\"Matriz de confusión:\")\n",
    "print(cm)\n",
    "print()\n",
    "#Reporte de clasificación\n",
    "report = classification_report(y_test, y_pred)\n",
    "print(\"Reporte de clasificación:\")\n",
    "print(report)"
   ]
  },
  {
   "cell_type": "markdown",
   "id": "487a5ee0-c74d-4455-9e49-59d1bb9d1010",
   "metadata": {},
   "source": [
    "### Para transacciones legítimas (Class 0)\n",
    "- Precisión: 0.93. El modelo identificó correctamente el 93% de las predicciones positivas de \"Legítimas\".\n",
    "- Recall: 0.98. El modelo identificó el 98% de todas las instancias de \"Legítimas\".\n",
    "- F1-Score: 0.95. El balance entre la precisión y el recall es de 0.95 para la Clase 0.\n",
    "- Support: 56750. Hay 56750 instancias reales de la clase \"Legítimas\" en el conjunto de datos.\n",
    "\n",
    "### Para transacciones fraudulentas (Class 1)\n",
    "- Precisión: 0.97. El modelo identificó correctamente el 97% de las predicciones positivas de \"Fraudulentas\".\n",
    "- Recall: 0.92. El modelo identificó el 92% de todas las instancias de \"Fraudulentas\".\n",
    "- F1-Score: 0.95. El balance entre precisión y recall es de 0.95 para la Clase 1.\n",
    "- Support: 56976. Hay 56976 instancias reales de la clase \"Fraudulentas\" en el conjunto de datos.\n",
    "\n",
    "### Métricas Generales:\n",
    "- Exactitud (accuracy): 0.95. El modelo tiene una tasa de aciertos del 95% en total.\n",
    "- Promedio Macro (macro avg): Promedia la precisión, el recall y el F1-Score sin considerar el soporte. En este caso, es aproximadamente 0.95 para precisión, 0.95 para recall y 0.95 para F1-Score.\n",
    "- Promedio ponderado (weighted avg): Promedia las métricas ponderadas por el soporte (es decir, el número de instancias de cada clase). En este caso, los resultados ponderados son 0.95 para precisión, 0.95 para recall y 0.95 para F1-Score."
   ]
  },
  {
   "cell_type": "markdown",
   "id": "640f530b-b81c-44dc-9ca2-612fb6bb2abd",
   "metadata": {},
   "source": [
    "## 2 Bosque aleatorio"
   ]
  },
  {
   "cell_type": "code",
   "execution_count": 71,
   "id": "8fb4cf9f-3fcd-4391-ba13-d654f09052be",
   "metadata": {},
   "outputs": [
    {
     "name": "stdout",
     "output_type": "stream",
     "text": [
      "[1 1 0 ... 1 1 0]\n",
      "[[0. 1.]\n",
      " [0. 1.]\n",
      " [1. 0.]\n",
      " ...\n",
      " [0. 1.]\n",
      " [0. 1.]\n",
      " [1. 0.]]\n",
      "0.9999120693596891\n"
     ]
    }
   ],
   "source": [
    "from sklearn.ensemble import RandomForestClassifier\n",
    "\n",
    "# Inicializar el modelo\n",
    "modelo_rf = RandomForestClassifier()\n",
    "\n",
    "#Entrenar el modelo\n",
    "modelo_rf.fit(X_train, y_train)\n",
    "\n",
    "# Realizar predicciones en el conjunto de test\n",
    "print(modelo_rf.predict(X_test))\n",
    "\n",
    "print(modelo_rf.predict_proba(X_test))\n",
    "print(modelo_rf.score(X_test, y_test))"
   ]
  },
  {
   "cell_type": "markdown",
   "id": "c495a8f0-3560-4227-b873-81fb0b152915",
   "metadata": {},
   "source": [
    "### Evaluación del modelo"
   ]
  },
  {
   "cell_type": "code",
   "execution_count": 85,
   "id": "924bb5f8-ea83-457d-9d51-fe8024ea48a7",
   "metadata": {},
   "outputs": [
    {
     "name": "stdout",
     "output_type": "stream",
     "text": [
      "Exactitud del modelo: 1.00\n",
      "\n",
      "Matriz de confusión:\n",
      "[[56740    10]\n",
      " [    0 56976]]\n",
      "\n",
      "Reporte de clasificación:\n",
      "              precision    recall  f1-score   support\n",
      "\n",
      "           0       1.00      1.00      1.00     56750\n",
      "           1       1.00      1.00      1.00     56976\n",
      "\n",
      "    accuracy                           1.00    113726\n",
      "   macro avg       1.00      1.00      1.00    113726\n",
      "weighted avg       1.00      1.00      1.00    113726\n",
      "\n"
     ]
    }
   ],
   "source": [
    "# Predecir con el modelo entrenado\n",
    "y_pred = modelo_rf.predict(X_test)\n",
    "\n",
    "# Evaluar el rendimiento del modelo\n",
    "# Exactitud\n",
    "accuracy = accuracy_score(y_test, y_pred)\n",
    "print(f\"Exactitud del modelo: {accuracy:.2f}\")\n",
    "print()\n",
    "# Matriz de confusión\n",
    "cm = confusion_matrix(y_test, y_pred)\n",
    "print(\"Matriz de confusión:\")\n",
    "print(cm)\n",
    "print()\n",
    "#Reporte de clasificación\n",
    "report = classification_report(y_test, y_pred)\n",
    "print(\"Reporte de clasificación:\")\n",
    "print(report)"
   ]
  },
  {
   "cell_type": "markdown",
   "id": "e289be34-66dd-42e8-81c6-f251bb3c117e",
   "metadata": {},
   "source": [
    "### Para transacciones legítimas (Class 0)\n",
    "- Precisión: 1.0. El modelo identificó correctamente el 100% de las predicciones positivas de \"Legítimas\".\n",
    "- Recall: 1.0. El modelo identificó el 100% de todas las instancias de \"Legítimas\".\n",
    "- F1-Score: 1.0. El balance entre la precisión y el recall es de 1.0 para la Clase 0.\n",
    "- Support: 56750. Hay 56750 instancias reales de la clase \"Legítimas\" en el conjunto de datos.\n",
    "\n",
    "### Para transacciones fraudulentas (Class 1)\n",
    "- Precisión: 1.0. El modelo identificó correctamente el 100% de las predicciones positivas de \"Fraudulentas\".\n",
    "- Recall: 1.0. El modelo identificó el 100% de todas las instancias de \"Fraudulentas\".\n",
    "- F1-Score: 1.0. El balance entre precisión y recall es de 1.0 para la Clase 1.\n",
    "- Support: 56976. Hay 56976 instancias reales de la clase \"Fraudulentas\" en el conjunto de datos.\n",
    "\n",
    "### Métricas Generales:\n",
    "- Exactitud (accuracy): 1.0. El modelo tiene una tasa de aciertos del 100% en total.\n",
    "- Promedio Macro (macro avg): Promedia la precisión, el recall y el F1-Score sin considerar el soporte. En este caso, es aproximadamente 1.0 para precisión, 1.0 para recall y 1.0 para F1-Score.\n",
    "- Promedio ponderado (weighted avg): Promedia las métricas ponderadas por el soporte (es decir, el número de instancias de cada clase). En este caso, los resultados ponderados son 1.0 para precisión, 1.0 para recall y 1.0 para F1-Score."
   ]
  },
  {
   "cell_type": "markdown",
   "id": "d7919f3b-ec03-4af8-8217-b6f3d1485d9b",
   "metadata": {},
   "source": [
    "## 3 K-Nearest Neighbors (KNN)"
   ]
  },
  {
   "cell_type": "code",
   "execution_count": 87,
   "id": "a6df790f-5188-4954-9a90-05c4e1111432",
   "metadata": {},
   "outputs": [
    {
     "name": "stdout",
     "output_type": "stream",
     "text": [
      "[1 1 0 ... 1 1 0]\n",
      "[[0. 1.]\n",
      " [0. 1.]\n",
      " [1. 0.]\n",
      " ...\n",
      " [0. 1.]\n",
      " [0. 1.]\n",
      " [1. 0.]]\n",
      "0.9989008669961135\n"
     ]
    }
   ],
   "source": [
    "from sklearn.neighbors import KNeighborsClassifier\n",
    "\n",
    "# Inicializar el modelo\n",
    "modelo_knn = KNeighborsClassifier(n_neighbors=5)\n",
    "\n",
    "#Entrenar el modelo\n",
    "modelo_knn.fit(X_train, y_train)\n",
    "\n",
    "# Realizar predicciones en el conjunto de test\n",
    "print(modelo_knn.predict(X_test))\n",
    "\n",
    "print(modelo_knn.predict_proba(X_test))\n",
    "print(modelo_knn.score(X_test, y_test))"
   ]
  },
  {
   "cell_type": "code",
   "execution_count": 89,
   "id": "fb893f23-2b4d-43d3-a330-ac64dbf33702",
   "metadata": {},
   "outputs": [
    {
     "name": "stdout",
     "output_type": "stream",
     "text": [
      "Exactitud del modelo: 1.00\n",
      "\n",
      "Matriz de confusión:\n",
      "[[56625   125]\n",
      " [    0 56976]]\n",
      "\n",
      "Reporte de clasificación:\n",
      "              precision    recall  f1-score   support\n",
      "\n",
      "           0       1.00      1.00      1.00     56750\n",
      "           1       1.00      1.00      1.00     56976\n",
      "\n",
      "    accuracy                           1.00    113726\n",
      "   macro avg       1.00      1.00      1.00    113726\n",
      "weighted avg       1.00      1.00      1.00    113726\n",
      "\n"
     ]
    }
   ],
   "source": [
    "# Predecir con el modelo entrenado\n",
    "y_pred = modelo_knn.predict(X_test)\n",
    "\n",
    "# Evaluar el rendimiento del modelo\n",
    "# Exactitud\n",
    "accuracy = accuracy_score(y_test, y_pred)\n",
    "print(f\"Exactitud del modelo: {accuracy:.2f}\")\n",
    "print()\n",
    "# Matriz de confusión\n",
    "cm = confusion_matrix(y_test, y_pred)\n",
    "print(\"Matriz de confusión:\")\n",
    "print(cm)\n",
    "print()\n",
    "#Reporte de clasificación\n",
    "report = classification_report(y_test, y_pred)\n",
    "print(\"Reporte de clasificación:\")\n",
    "print(report)"
   ]
  },
  {
   "cell_type": "markdown",
   "id": "6ecb01c0-e685-4276-9997-51ca81b1e61a",
   "metadata": {},
   "source": [
    "### Para transacciones legítimas (Class 0)\n",
    "- Precisión: 1.0. El modelo identificó correctamente el 100% de las predicciones positivas de \"Legítimas\".\n",
    "- Recall: 1.0. El modelo identificó el 100% de todas las instancias de \"Legítimas\".\n",
    "- F1-Score: 1.0. El balance entre la precisión y el recall es de 1.0 para la Clase 0.\n",
    "- Support: 56750. Hay 56750 instancias reales de la clase \"Legítimas\" en el conjunto de datos.\n",
    "\n",
    "### Para transacciones fraudulentas (Class 1)\n",
    "- Precisión: 1.0. El modelo identificó correctamente el 100% de las predicciones positivas de \"Fraudulentas\".\n",
    "- Recall: 1.0. El modelo identificó el 100% de todas las instancias de \"Fraudulentas\".\n",
    "- F1-Score: 1.0. El balance entre precisión y recall es de 1.0 para la Clase 1.\n",
    "- Support: 56976. Hay 56976 instancias reales de la clase \"Fraudulentas\" en el conjunto de datos.\n",
    "\n",
    "### Métricas Generales:\n",
    "- Exactitud (accuracy): 1.0. El modelo tiene una tasa de aciertos del 100% en total.\n",
    "- Promedio Macro (macro avg): Promedia la precisión, el recall y el F1-Score sin considerar el soporte. En este caso, es aproximadamente 1.0 para precisión, 1.0 para recall y 1.0 para F1-Score.\n",
    "- Promedio ponderado (weighted avg): Promedia las métricas ponderadas por el soporte (es decir, el número de instancias de cada clase). En este caso, los resultados ponderados son 1.0 para precisión, 1.0 para recall y 1.0 para F1-Score."
   ]
  },
  {
   "cell_type": "markdown",
   "id": "5d3d917d-ec0b-4c11-aead-57b0869b84dc",
   "metadata": {},
   "source": [
    "## 4 Gradient Boosting Classifier"
   ]
  },
  {
   "cell_type": "code",
   "execution_count": 91,
   "id": "228b94e8-29f8-43ba-a53f-7973e7a06f73",
   "metadata": {},
   "outputs": [
    {
     "name": "stdout",
     "output_type": "stream",
     "text": [
      "[1 1 0 ... 1 1 0]\n",
      "[[0.00452951 0.99547049]\n",
      " [0.00470366 0.99529634]\n",
      " [0.97937778 0.02062222]\n",
      " ...\n",
      " [0.1934076  0.8065924 ]\n",
      " [0.00412676 0.99587324]\n",
      " [0.96035402 0.03964598]]\n",
      "0.9781492358827357\n"
     ]
    }
   ],
   "source": [
    "from sklearn.ensemble import GradientBoostingClassifier\n",
    "\n",
    "# Inicializar el modelo\n",
    "modelo_gb = GradientBoostingClassifier()\n",
    "\n",
    "#Entrenar el modelo\n",
    "modelo_gb.fit(X_train, y_train)\n",
    "\n",
    "# Realizar predicciones en el conjunto de test\n",
    "print(modelo_gb.predict(X_test))\n",
    "\n",
    "print(modelo_gb.predict_proba(X_test))\n",
    "print(modelo_gb.score(X_test, y_test))"
   ]
  },
  {
   "cell_type": "code",
   "execution_count": 93,
   "id": "73fbd11e-3ced-4e70-8837-e7319071ec15",
   "metadata": {},
   "outputs": [
    {
     "name": "stdout",
     "output_type": "stream",
     "text": [
      "Exactitud del modelo: 0.98\n",
      "\n",
      "Matriz de confusión:\n",
      "[[56026   724]\n",
      " [ 1761 55215]]\n",
      "\n",
      "Reporte de clasificación:\n",
      "              precision    recall  f1-score   support\n",
      "\n",
      "           0       0.97      0.99      0.98     56750\n",
      "           1       0.99      0.97      0.98     56976\n",
      "\n",
      "    accuracy                           0.98    113726\n",
      "   macro avg       0.98      0.98      0.98    113726\n",
      "weighted avg       0.98      0.98      0.98    113726\n",
      "\n"
     ]
    }
   ],
   "source": [
    "# Predecir con el modelo entrenado\n",
    "y_pred = modelo_gb.predict(X_test)\n",
    "\n",
    "# Evaluar el rendimiento del modelo\n",
    "# Exactitud\n",
    "accuracy = accuracy_score(y_test, y_pred)\n",
    "print(f\"Exactitud del modelo: {accuracy:.2f}\")\n",
    "print()\n",
    "# Matriz de confusión\n",
    "cm = confusion_matrix(y_test, y_pred)\n",
    "print(\"Matriz de confusión:\")\n",
    "print(cm)\n",
    "print()\n",
    "#Reporte de clasificación\n",
    "report = classification_report(y_test, y_pred)\n",
    "print(\"Reporte de clasificación:\")\n",
    "print(report)"
   ]
  },
  {
   "cell_type": "markdown",
   "id": "b90bf26a-fb8d-4d65-8a33-aaebd3314247",
   "metadata": {},
   "source": [
    "### Para transacciones legítimas (Class 0)\n",
    "- Precisión: 0.97. El modelo identificó correctamente el 97% de las predicciones positivas de \"Legítimas\".\n",
    "- Recall: 0.99. El modelo identificó el 99% de todas las instancias de \"Legítimas\".\n",
    "- F1-Score: 0.98. El balance entre la precisión y el recall es de 0.98 para la Clase 0.\n",
    "- Support: 56750. Hay 56750 instancias reales de la clase \"Legítimas\" en el conjunto de datos.\n",
    "\n",
    "### Para transacciones fraudulentas (Class 1)\n",
    "- Precisión: 0.99. El modelo identificó correctamente el 99% de las predicciones positivas de \"Fraudulentas\".\n",
    "- Recall: 0.97. El modelo identificó el 97% de todas las instancias de \"Fraudulentas\".\n",
    "- F1-Score: 0.98. El balance entre precisión y recall es de 0.98 para la Clase 1.\n",
    "- Support: 56750. Hay 56976 instancias reales de la clase \"Fraudulentas\" en el conjunto de datos.\n",
    "\n",
    "### Métricas Generales:\n",
    "- Exactitud (accuracy): 0.98. El modelo tiene una tasa de aciertos del 98% en total.\n",
    "- Promedio Macro (macro avg): Promedia la precisión, el recall y el F1-Score sin considerar el soporte. En este caso, es aproximadamente 0.98 para precisión, 0.98 para recall y 0.98 para F1-Score.\n",
    "- Promedio ponderado (weighted avg): Promedia las métricas ponderadas por el soporte (es decir, el número de instancias de cada clase). En este caso, los resultados ponderados son 0.98 para precisión, 0.98 para recall y 0.98 para F1-Score."
   ]
  },
  {
   "cell_type": "markdown",
   "id": "fc1ab6dd-31e4-4c24-8918-df8c8ea7b38a",
   "metadata": {},
   "source": [
    "# Comparando los resultados de los modelos\n",
    "\n",
    "**1 Modelos de sobreajuste:**\n",
    "Tanto el **Random Forest** como el **KNN** tienen una precisión del 100%, lo que podría ser un indicio de sobreajuste, especialmente si los datos no están suficientemente bien preparados o balanceados.\n",
    "\n",
    "**2 Modelo más equilibrado:**\n",
    "El **Gradient Boosting** parece ser el modelo más equilibrado en términos de precisión y recall, y la exactitud del 98% también es bastante buena. Este modelo podría ser más robusto y generalizar mejor a nuevos datos.\n",
    "\n",
    "**3 Regresión Logística:**\n",
    "\n",
    "La Regresión Logística tiene una exactitud algo más baja (95%), pero todavía es un buen modelo base. También podría beneficiarse de ajustes de hiperparámetros o el uso de técnicas de regularización.\n",
    "\n",
    "## ¿Qué se puede hacer?\n",
    "- **Validación Cruzada:** Realizar una validación cruzada para ver si los modelos con precisión perfecta (RF y KNN) son robustos o si hay problemas de sobreajuste.\n",
    "- **Ajuste de Hiperparámetros:** Realizar un GridSearchCV o RandomizedSearchCV para encontrar los mejores hiperparámetros para el Gradient Boosting y otros modelos.\n",
    "- **Verificación de rendimiento:** Evaluar el desempeño de los modelos en datos no vistos para comprobar la capacidad de generalización. "
   ]
  },
  {
   "cell_type": "markdown",
   "id": "da1c3712-5c61-4a02-98e2-0a69487f26ed",
   "metadata": {},
   "source": [
    "# Desafios\n",
    "\n",
    "**1 Lidiar con el desbalance de datos**\n",
    "La alta disparidad entre transacciones legítimas y fraudulentas dificultó el análisis de los datos y el entrenamiento de modelos. Este problema requirió el uso de técnicas como SMOTE. Sin embargo, el balanceo pudo influir en los resultados finales, y en otro escenario, un dataset más grande habría permitido aplicar submuestreo en lugar de sobremuestreo.\n",
    "\n",
    "**2 Sobrecarga de documentación de librerías**\n",
    "La cantidad de información disponible en las librerías utilizadas, como scikit-learn y imbalanced-learn, complicó encontrar soluciones específicas para problemas concretos. Esto demandó tiempo adicional en investigación y pruebas.\n",
    "\n",
    "**3 Evaluación del desempeño de modelos**\n",
    "Seleccionar las métricas adecuadas para evaluar los modelos fue un punto crítico. Métricas como precisión y recall no siempre reflejan completamente la efectividad de los modelos.\n",
    "\n",
    "**4 Evaluar apropiadamente las capacidades del modelo**\n",
    "En ocasiones, se sobreestiman las capacidades de los modelos utilizados. Las evaluaciones tradicionales empleadas en este proyecto no siempre reflejan resultados completamente precisos. Esto genera cuestionamientos sobre la conveniencia de incorporar métodos más robustos, como la validación cruzada (Cross-Validation), para obtener una evaluación más confiable y generalizable del rendimiento del modelo."
   ]
  },
  {
   "cell_type": "markdown",
   "id": "7700b7d9-415e-4366-a8de-cb19ff3045f1",
   "metadata": {},
   "source": [
    "# Hallazgos y conclusiones\n",
    "\n",
    "**1 Baja Frecuencia de las Transacciones Fraudulentas**\n",
    "Los fraudes son eventos extremadamente poco frecuentes (menos del 0.2% del total), lo que complica su detección. Este desbalance requiere estrategias específicas para entrenar modelos efectivos, como el uso de técnicas de sobremuestreo (SMOTE) o ajustes en las métricas de evaluación.\n",
    "\n",
    "**2 Patrones Inconsistentes**\n",
    "Las transacciones fraudulentas no siempre presentan patrones obvios, como montos extremadamente altos. Esto indica que los fraudes pueden ocurrir en cualquier rango de valores, lo que demanda modelos capaces de identificar relaciones complejas.\n",
    "\n",
    "**3 Distribución Temporal** \n",
    "Las transacciones fraudulentas no siguen una tendencia horaria clara, lo que indica que los fraudes pueden ocurrir en cualquier momento.\n",
    "\n",
    "**4 Frecuencia por Monto**\n",
    "Algunas transacciones fraudulentas se concentran en montos específicos (bajos o moderados), probablemente para evitar alertas automatizadas.\n",
    "\n",
    "**5 Seguridad de Datos**\n",
    "Dado que el dataset contiene información transformada, se garantiza la privacidad. Sin embargo, en entornos reales, el manejo ético de datos sensibles es esencial.\n",
    "\n",
    "**6 Implicaciones para la Industria**\n",
    "- Impacto de los Falsos Positivos: Aunque los falsos positivos no generan pérdidas directas, pueden deteriorar la experiencia del cliente al bloquear transacciones legítimas.\n",
    "- Prevención Proactiva: La implementación de sistemas predictivos permite a las instituciones financieras actuar antes de que se complete una transacción fraudulenta.\n",
    "- Optimización Operativa: La automatización reduce el tiempo y costo dedicados a revisar manualmente transacciones sospechosas.\n",
    "- Reputación y Confianza: Proteger a los usuarios de fraudes fortalece la relación cliente-banco.\n",
    "\n",
    "# Conclusiones técnicas\n",
    "\n",
    "**1 Importancia de las variables**\n",
    "Aunque las características V1 a V28 tienen relevancia estadística para los modelos, su falta de interpretabilidad directa limita su utilidad para análisis explicativos. Las variables Amount y Time, aunque menos correlacionadas con el fraude, proporcionan contexto útil para el preprocesamiento y la visualización.\n",
    "\n",
    "**2 Desbalance de clases**\n",
    "La técnica SMOTE fue efectiva para balancear el dataset, lo que mejoró significativamente el rendimiento de los modelos, sin embargo, esto pudo afectar al resultado obtenido por los modelos.\n",
    "\n",
    "**3 Rendimiento del Modelo**\n",
    "El modelo de Gradient Boosting presentó el mejor balance entre precisión, recall y F1-score, con un desempeño robusto en datos de prueba (98% de exactitud). Random Forest y KNN lograron una precisión perfecta, pero podrían estar sobreajustados, lo que se debe validar con datos no vistos.\n",
    "\n",
    "**4 Recomendaciones para el Futuro**\n",
    "Implementar validación cruzada para garantizar que los modelos sean robustos y no dependan de un conjunto de prueba específico. Explorar técnicas de ajuste de hiperparámetros, como Grid Search o Randomized Search, para optimizar aún más el rendimiento del Gradient Boosting y otros modelos. Analizar la posibilidad de incorporar datos adicionales que puedan proporcionar un contexto más rico, como la ubicación geográfica o el tipo de comercio."
   ]
  },
  {
   "cell_type": "markdown",
   "id": "f6548727-f4fe-4427-9b08-1ff4228e4694",
   "metadata": {},
   "source": [
    "# Referencias\n",
    "\n",
    "* https://claude.ai/new\n",
    "* https://docs.profiling.ydata.ai/latest/\n",
    "* https://seaborn.pydata.org/tutorial.html\n",
    "* https://numpy.org/devdocs/user/index.html\n",
    "* https://matplotlib.org/stable/users/index.html\n",
    "* https://scikit-learn.org/stable/user_guide.html\n",
    "* https://scikit-learn.org/1.5/modules/neighbors.html\n",
    "* https://pandas.pydata.org/docs/user_guide/index.html\n",
    "* https://www.youtube.com/watch?v=Qnth2VXopLg&t=192s\n",
    "* https://www.kaggle.com/datasets/mlg-ulb/creditcardfraud/data\n",
    "* https://docs.profiling.ydata.ai/latest/getting-started/installation/\n",
    "* https://scikit-learn.org/1.5/modules/generated/sklearn.linear_model.LogisticRegression.html\n",
    "* https://imbalanced-learn.org/dev/references/generated/imblearn.over_sampling.SMOTE.html#\n",
    "* https://scikit-learn.org/1.5/modules/generated/sklearn.ensemble.RandomForestClassifier.html\n",
    "* https://scikit-learn.org/1.5/modules/generated/sklearn.ensemble.GradientBoostingClassifier.html"
   ]
  },
  {
   "cell_type": "markdown",
   "id": "ea4720d5-5906-4701-bc0f-607311ce009c",
   "metadata": {},
   "source": [
    "# Libros consultados\n",
    "\n",
    "- Data Science Handbook: A practical approach - Kolla Bhanu Prakash\n",
    "- Ciencia de datos desde cero: Principios básicos con Python (Segunda Edición) - Joel Grus\n",
    "- Estadística - Serie Schaum (Sexta Edición) - Murray R. Spiegel, PhD & Larry J. Stephens, PhD\n",
    "- Python para análisis de datos: Manipulación de datos con pandas, NumPy y Jupyter (Tercera Edición) - Wes McKinney\n",
    "- Inteligencia de negocios y analítica de datos: Una visión global de Business Intelligence & Analytics - Luis Joyanes Aguilar"
   ]
  }
 ],
 "metadata": {
  "kernelspec": {
   "display_name": "Python 3 (ipykernel)",
   "language": "python",
   "name": "python3"
  },
  "language_info": {
   "codemirror_mode": {
    "name": "ipython",
    "version": 3
   },
   "file_extension": ".py",
   "mimetype": "text/x-python",
   "name": "python",
   "nbconvert_exporter": "python",
   "pygments_lexer": "ipython3",
   "version": "3.11.5"
  }
 },
 "nbformat": 4,
 "nbformat_minor": 5
}
